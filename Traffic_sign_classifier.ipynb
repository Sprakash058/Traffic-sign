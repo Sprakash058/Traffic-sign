{
 "cells": [
  {
   "cell_type": "markdown",
   "metadata": {
    "id": "XX0BvWhWAx0c"
   },
   "source": [
    "## Dataset --> [kaggle](https://www.kaggle.com/datasets/meowmeowmeowmeowmeow/gtsrb-german-traffic-sign)"
   ]
  },
  {
   "cell_type": "code",
   "execution_count": 14,
   "metadata": {
    "id": "OTvykUheEZA-"
   },
   "outputs": [],
   "source": [
    "import numpy as np\n",
    "import pandas as pd\n",
    "import matplotlib.pyplot as plt\n",
    "import tensorflow as tf\n",
    "from PIL import Image\n",
    "import os\n",
    "from sklearn.model_selection import train_test_split\n",
    "from keras.utils import to_categorical\n",
    "from keras.models import Sequential, load_model\n",
    "from keras.layers import Conv2D, MaxPool2D, Dense, Flatten, Dropout\n",
    "from sklearn.metrics import accuracy_score, confusion_matrix, classification_report\n",
    "from tensorflow import argmax"
   ]
  },
  {
   "cell_type": "markdown",
   "metadata": {
    "id": "M0iUmydKFPup"
   },
   "source": [
    "# Data preprocessing"
   ]
  },
  {
   "cell_type": "code",
   "execution_count": 2,
   "metadata": {
    "id": "KvRnBmskEaCS"
   },
   "outputs": [],
   "source": [
    "data = []\n",
    "labels = []\n",
    "classes = 43\n",
    "cur_path = os.getcwd()\n",
    "\n",
    "#Retrieving the images and their labels\n",
    "for i in range(classes):\n",
    "    path = os.path.join(cur_path,'train',str(i))\n",
    "    images = os.listdir(path)\n",
    "\n",
    "    for a in images:\n",
    "        image = Image.open(path + '\\\\'+ a)\n",
    "        image = image.resize((30,30))\n",
    "        image = np.array(image)\n",
    "        data.append(image)\n",
    "        labels.append(i)"
   ]
  },
  {
   "cell_type": "code",
   "execution_count": 3,
   "metadata": {
    "id": "C0bBvLuPElJS"
   },
   "outputs": [
    {
     "data": {
      "text/plain": [
       "((39209, 30, 30, 3), (39209,))"
      ]
     },
     "execution_count": 3,
     "metadata": {},
     "output_type": "execute_result"
    }
   ],
   "source": [
    "data = np.array(data)\n",
    "labels = np.array(labels)\n",
    "\n",
    "data.shape, labels.shape"
   ]
  },
  {
   "cell_type": "code",
   "execution_count": 4,
   "metadata": {
    "id": "McLsmn1ZEvWh"
   },
   "outputs": [
    {
     "data": {
      "text/plain": [
       "((31367, 30, 30, 3), (7842, 30, 30, 3), (31367,), (7842,))"
      ]
     },
     "execution_count": 4,
     "metadata": {},
     "output_type": "execute_result"
    }
   ],
   "source": [
    "#Splitting training and validation dataset\n",
    "X_train, X_val, y_train, y_val = train_test_split(data, labels, test_size=0.2, random_state=42)\n",
    "\n",
    "X_train.shape, X_val.shape, y_train.shape, y_val.shape"
   ]
  },
  {
   "cell_type": "code",
   "execution_count": 5,
   "metadata": {
    "id": "TXc2v9TWE5kW"
   },
   "outputs": [],
   "source": [
    "#Converting the labels into one hot encoding\n",
    "y_train = to_categorical(y_train, 43)\n",
    "y_val = to_categorical(y_val, 43)"
   ]
  },
  {
   "cell_type": "markdown",
   "metadata": {
    "id": "M7DOerYzFE2R"
   },
   "source": [
    "# Model training"
   ]
  },
  {
   "cell_type": "code",
   "execution_count": 6,
   "metadata": {
    "id": "avkn-gt1E79g"
   },
   "outputs": [],
   "source": [
    "model = Sequential([\n",
    "    Conv2D(filters=32, kernel_size=(5,5), activation='relu', input_shape=X_train.shape[1:]),\n",
    "    Conv2D(filters=32, kernel_size=(5,5), activation='relu'),\n",
    "\n",
    "    MaxPool2D(pool_size=(2, 2)),\n",
    "    Dropout(rate=0.25),\n",
    "\n",
    "    Conv2D(filters=64, kernel_size=(3, 3), activation='relu'),\n",
    "    Conv2D(filters=64, kernel_size=(3, 3), activation='relu'),\n",
    "\n",
    "    MaxPool2D(pool_size=(2, 2)),\n",
    "    Dropout(rate=0.25),\n",
    "\n",
    "    Flatten(),\n",
    "\n",
    "    Dense(256, activation='relu'),\n",
    "    Dropout(rate=0.5),\n",
    "\n",
    "    Dense(43, activation='softmax')\n",
    "])\n",
    "\n",
    "model.compile(loss='categorical_crossentropy', optimizer='adam', metrics=['accuracy'])"
   ]
  },
  {
   "cell_type": "code",
   "execution_count": null,
   "metadata": {
    "id": "681cSQ1-FYtA",
    "scrolled": true
   },
   "outputs": [],
   "source": [
    "model.fit(X_train, y_train, batch_size=32, epochs=15, validation_data=(X_val, y_val))"
   ]
  },
  {
   "cell_type": "code",
   "execution_count": null,
   "metadata": {
    "id": "09HXgpFCFm5k"
   },
   "outputs": [],
   "source": [
    "model.save(\"traffic_classifier.h5\")"
   ]
  },
  {
   "cell_type": "code",
   "execution_count": 7,
   "metadata": {},
   "outputs": [],
   "source": [
    "model = load_model('traffic_classifier.h5')"
   ]
  },
  {
   "cell_type": "code",
   "execution_count": null,
   "metadata": {},
   "outputs": [],
   "source": [
    "# # visualizing loss functions\n",
    "# model_losses = pd.DataFrame(model.history)\n",
    "# model_losses.plot()"
   ]
  },
  {
   "cell_type": "markdown",
   "metadata": {
    "id": "zxqPZ5_JF7mb"
   },
   "source": [
    "# Model Testing"
   ]
  },
  {
   "cell_type": "code",
   "execution_count": 8,
   "metadata": {
    "id": "sLgN9_M5F6Rl"
   },
   "outputs": [],
   "source": [
    "y_test = pd.read_csv('Test.csv')\n",
    "labels = y_test[\"ClassId\"].values\n",
    "imgs = y_test[\"Path\"].values"
   ]
  },
  {
   "cell_type": "code",
   "execution_count": 9,
   "metadata": {
    "id": "eTk64M0HGmBZ"
   },
   "outputs": [],
   "source": [
    "test=[]\n",
    "\n",
    "for img in imgs:\n",
    "    image = Image.open(img)\n",
    "    image = image.resize((30,30))\n",
    "    test.append(np.array(image))\n",
    "\n",
    "X_test=np.array(test)"
   ]
  },
  {
   "cell_type": "code",
   "execution_count": 10,
   "metadata": {
    "id": "npsxehs_GpCM"
   },
   "outputs": [
    {
     "name": "stdout",
     "output_type": "stream",
     "text": [
      "395/395 [==============================] - 16s 37ms/step\n"
     ]
    }
   ],
   "source": [
    "pred = model.predict(X_test)"
   ]
  },
  {
   "cell_type": "code",
   "execution_count": 11,
   "metadata": {
    "id": "X-cvISPwAdf9"
   },
   "outputs": [],
   "source": [
    "predicted_classes = argmax(pred, axis=1)"
   ]
  },
  {
   "cell_type": "code",
   "execution_count": 12,
   "metadata": {},
   "outputs": [
    {
     "data": {
      "text/plain": [
       "0.966904196357878"
      ]
     },
     "execution_count": 12,
     "metadata": {},
     "output_type": "execute_result"
    }
   ],
   "source": [
    "accuracy_score(predicted_classes, labels)"
   ]
  },
  {
   "cell_type": "code",
   "execution_count": 19,
   "metadata": {},
   "outputs": [
    {
     "data": {
      "text/plain": [
       "array([[ 60,   0,   0, ...,   0,   0,   0],\n",
       "       [  0, 713,   1, ...,   0,   0,   0],\n",
       "       [  0,   5, 740, ...,   0,   0,   0],\n",
       "       ...,\n",
       "       [  0,   1,   0, ...,  84,   0,   0],\n",
       "       [  0,   0,   0, ...,   0,  56,  26],\n",
       "       [  0,   0,   0, ...,   0,   0,  61]], dtype=int64)"
      ]
     },
     "execution_count": 19,
     "metadata": {},
     "output_type": "execute_result"
    }
   ],
   "source": [
    "confusion_matrix(predicted_classes, labels)"
   ]
  },
  {
   "cell_type": "code",
   "execution_count": 20,
   "metadata": {},
   "outputs": [
    {
     "name": "stdout",
     "output_type": "stream",
     "text": [
      "              precision    recall  f1-score   support\n",
      "\n",
      "           0       1.00      1.00      1.00        60\n",
      "           1       0.99      0.94      0.97       755\n",
      "           2       0.99      0.98      0.98       755\n",
      "           3       0.99      0.93      0.96       479\n",
      "           4       0.97      1.00      0.99       643\n",
      "           5       0.95      0.98      0.96       606\n",
      "           6       0.89      0.98      0.93       137\n",
      "           7       0.96      1.00      0.98       434\n",
      "           8       0.97      0.95      0.96       459\n",
      "           9       1.00      0.98      0.99       489\n",
      "          10       0.98      1.00      0.99       653\n",
      "          11       0.96      0.94      0.95       428\n",
      "          12       0.96      1.00      0.98       664\n",
      "          13       0.99      0.99      0.99       723\n",
      "          14       0.99      0.99      0.99       271\n",
      "          15       1.00      0.89      0.94       235\n",
      "          16       0.99      0.99      0.99       151\n",
      "          17       0.99      1.00      0.99       356\n",
      "          18       0.94      0.95      0.95       387\n",
      "          19       0.98      0.95      0.97        62\n",
      "          20       1.00      0.82      0.90       110\n",
      "          21       0.92      0.99      0.95        84\n",
      "          22       0.99      0.99      0.99       120\n",
      "          23       0.97      0.87      0.92       166\n",
      "          24       0.94      0.96      0.95        89\n",
      "          25       0.93      0.99      0.95       450\n",
      "          26       0.82      0.98      0.89       150\n",
      "          27       0.48      0.74      0.59        39\n",
      "          28       0.99      0.97      0.98       154\n",
      "          29       0.98      0.95      0.96        93\n",
      "          30       0.79      0.87      0.83       135\n",
      "          31       1.00      0.93      0.96       289\n",
      "          32       0.95      0.92      0.93        62\n",
      "          33       1.00      0.98      0.99       215\n",
      "          34       0.99      0.99      0.99       120\n",
      "          35       1.00      1.00      1.00       390\n",
      "          36       0.97      0.94      0.96       124\n",
      "          37       0.98      0.97      0.98        61\n",
      "          38       1.00      0.98      0.99       702\n",
      "          39       0.98      0.96      0.97        92\n",
      "          40       0.93      0.90      0.92        93\n",
      "          41       0.93      0.68      0.79        82\n",
      "          42       0.68      0.97      0.80        63\n",
      "\n",
      "    accuracy                           0.97     12630\n",
      "   macro avg       0.95      0.95      0.95     12630\n",
      "weighted avg       0.97      0.97      0.97     12630\n",
      "\n"
     ]
    }
   ],
   "source": [
    "print(classification_report(predicted_classes, labels))"
   ]
  },
  {
   "cell_type": "code",
   "execution_count": 21,
   "metadata": {},
   "outputs": [],
   "source": [
    "#dictionary to label all traffic signs class.\n",
    "classes = { 1:'Speed limit (20km/h)',\n",
    "            2:'Speed limit (30km/h)',      \n",
    "            3:'Speed limit (50km/h)',       \n",
    "            4:'Speed limit (60km/h)',      \n",
    "            5:'Speed limit (70km/h)',    \n",
    "            6:'Speed limit (80km/h)',      \n",
    "            7:'End of speed limit (80km/h)',     \n",
    "            8:'Speed limit (100km/h)',    \n",
    "            9:'Speed limit (120km/h)',     \n",
    "           10:'No passing',   \n",
    "           11:'No passing veh over 3.5 tons',     \n",
    "           12:'Right-of-way at intersection',     \n",
    "           13:'Priority road',    \n",
    "           14:'Yield',     \n",
    "           15:'Stop',       \n",
    "           16:'No vehicles',       \n",
    "           17:'Veh > 3.5 tons prohibited',       \n",
    "           18:'No entry',       \n",
    "           19:'General caution',     \n",
    "           20:'Dangerous curve left',      \n",
    "           21:'Dangerous curve right',   \n",
    "           22:'Double curve',      \n",
    "           23:'Bumpy road',     \n",
    "           24:'Slippery road',       \n",
    "           25:'Road narrows on the right',  \n",
    "           26:'Road work',    \n",
    "           27:'Traffic signals',      \n",
    "           28:'Pedestrians',     \n",
    "           29:'Children crossing',     \n",
    "           30:'Bicycles crossing',       \n",
    "           31:'Beware of ice/snow',\n",
    "           32:'Wild animals crossing',      \n",
    "           33:'End speed + passing limits',      \n",
    "           34:'Turn right ahead',     \n",
    "           35:'Turn left ahead',       \n",
    "           36:'Ahead only',      \n",
    "           37:'Go straight or right',      \n",
    "           38:'Go straight or left',      \n",
    "           39:'Keep right',     \n",
    "           40:'Keep left',      \n",
    "           41:'Roundabout mandatory',     \n",
    "           42:'End of no passing',      \n",
    "           43:'End no passing veh > 3.5 tons' }"
   ]
  },
  {
   "cell_type": "code",
   "execution_count": 22,
   "metadata": {},
   "outputs": [
    {
     "name": "stdout",
     "output_type": "stream",
     "text": [
      "Actual - Veh > 3.5 tons prohibited, Predicted - Veh > 3.5 tons prohibited\n",
      "Actual - Turn left ahead, Predicted - Turn left ahead\n",
      "Actual - Beware of ice/snow, Predicted - Beware of ice/snow\n",
      "Actual - Dangerous curve left, Predicted - Dangerous curve left\n",
      "Actual - Speed limit (100km/h), Predicted - Speed limit (100km/h)\n",
      "Actual - Speed limit (30km/h), Predicted - Speed limit (30km/h)\n",
      "Actual - Roundabout mandatory, Predicted - Roundabout mandatory\n",
      "Actual - Pedestrians, Predicted - Pedestrians\n",
      "Actual - Roundabout mandatory, Predicted - Roundabout mandatory\n",
      "Actual - Go straight or left, Predicted - Go straight or left\n"
     ]
    }
   ],
   "source": [
    "for i in range(10):\n",
    "    # Generate a random integer between 0 and len(X_test)-1\n",
    "    random_integer = tf.cast(tf.random.uniform(shape=(), minval=0, maxval=len(X_test)), tf.int32)\n",
    "    print('Actual - ' + classes[labels[random_integer]] + ', Predicted - ' + classes[int(predicted_classes[random_integer])])"
   ]
  },
  {
   "cell_type": "code",
   "execution_count": null,
   "metadata": {},
   "outputs": [],
   "source": []
  }
 ],
 "metadata": {
  "colab": {
   "provenance": []
  },
  "kernelspec": {
   "display_name": "Python 3 (ipykernel)",
   "language": "python",
   "name": "python3"
  },
  "language_info": {
   "codemirror_mode": {
    "name": "ipython",
    "version": 3
   },
   "file_extension": ".py",
   "mimetype": "text/x-python",
   "name": "python",
   "nbconvert_exporter": "python",
   "pygments_lexer": "ipython3",
   "version": "3.10.10"
  }
 },
 "nbformat": 4,
 "nbformat_minor": 1
}
